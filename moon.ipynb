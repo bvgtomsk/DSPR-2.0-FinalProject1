{
 "cells": [
  {
   "cell_type": "markdown",
   "metadata": {},
   "source": [
    "# Ноутбук с парсингом фаз луны с сайта https://mirkosmosa.ru"
   ]
  },
  {
   "cell_type": "code",
   "execution_count": 1,
   "metadata": {},
   "outputs": [],
   "source": [
    "# Загрузим необходимые библиотеки для парсинга веб страниц\n",
    "import numpy as np\n",
    "import pandas as pd\n",
    "from bs4 import BeautifulSoup\n",
    "from selenium import webdriver\n",
    "import requests\n",
    "import re\n",
    "import json\n",
    "from pprint import pprint\n",
    "from selenium.webdriver.firefox.options import Options\n",
    "import datetime\n",
    "\n",
    "from selenium.webdriver.support.ui import WebDriverWait\n",
    "from selenium.webdriver.common.by import By\n",
    "from selenium.webdriver.support import expected_conditions as EC\n",
    "# Сформируем опции для запуска движка браузера\n",
    "chrome_options = Options()\n",
    "chrome_options.add_argument('--no-sandbox')\n",
    "chrome_options.add_argument('--headless')\n",
    "chrome_options.add_argument('--disable-extensions')\n",
    "chrome_options.add_argument(\"--disable-dev-shm-usage\");\n",
    "driver = webdriver.Firefox(options=chrome_options)"
   ]
  },
  {
   "cell_type": "markdown",
   "metadata": {},
   "source": [
    "Создадим функцию для формирования списка дат"
   ]
  },
  {
   "cell_type": "code",
   "execution_count": null,
   "metadata": {},
   "outputs": [],
   "source": [
    "def get_dates_list(start_date, num_days):\n",
    "    return [start_date + datetime.timedelta(days=x) for x in range(num_days)]"
   ]
  },
  {
   "cell_type": "markdown",
   "metadata": {},
   "source": [
    "Распарсим вебстраницу\n",
    "  \n",
    "Поскольку страницы легковесные, то для удобства последующего использования загрузим данные сразу до 2030 года"
   ]
  },
  {
   "cell_type": "code",
   "execution_count": 25,
   "metadata": {},
   "outputs": [],
   "source": [
    "months = ['', 'january', 'february', 'march', 'april', 'may', 'june', 'july', 'august', 'september', 'october', 'november', 'december']\n",
    "shine_dict = {\n",
    "    '0': 0,\n",
    "    '1': 0,\n",
    "    '2': 50,\n",
    "    '3': 50,\n",
    "    '4': 100,\n",
    "    '5': 100,\n",
    "    '6': 50,\n",
    "    '7': 50\n",
    "}\n",
    "\n",
    "moon_rows = []\n",
    "\n",
    "for year in range(2013,2030):\n",
    "    for month in range(1,13):\n",
    "        driver.get(f'https://mirkosmosa.ru/lunar-calendar/phase-moon/{year}/{months[month]}')\n",
    "        html = driver.page_source\n",
    "        soup = BeautifulSoup(html)\n",
    "        rows = soup.find_all(attrs = {'class': 'month_row'})\n",
    "        for row in rows:\n",
    "            date_str_list = row.find(attrs = {'class': 'month_cel_date'}).text.split(' ')\n",
    "            phase = row.find('img')['src'].split('/')[-1].split('.')[0].split('_')\n",
    "            date_str = f'{date_str_list[0]}.{month}.{year}'\n",
    "            moon_shine = 0\n",
    "            shine_rise_intervals =  np.round(np.linspace(0, 50, 7)[:-1])\n",
    "            moon_shine = shine_dict[phase[0]]\n",
    "            if len(phase) > 1:\n",
    "                coef_growing = 1\n",
    "                if int(phase[0]) > 4:\n",
    "                    coef_growing = -1\n",
    "                moon_shine += coef_growing * shine_rise_intervals[int(phase[1])]\n",
    "            moon_rows.append([date_str, moon_shine])\n",
    "\n",
    "moon_calendar = pd.DataFrame(moon_rows, columns = ['date', 'moon_shine'])"
   ]
  },
  {
   "cell_type": "markdown",
   "metadata": {},
   "source": [
    "Преобразуем дату в формат pandas.datetime и отобразим получившийся DataFrame"
   ]
  },
  {
   "cell_type": "code",
   "execution_count": 26,
   "metadata": {},
   "outputs": [
    {
     "data": {
      "text/html": [
       "<div>\n",
       "<style scoped>\n",
       "    .dataframe tbody tr th:only-of-type {\n",
       "        vertical-align: middle;\n",
       "    }\n",
       "\n",
       "    .dataframe tbody tr th {\n",
       "        vertical-align: top;\n",
       "    }\n",
       "\n",
       "    .dataframe thead th {\n",
       "        text-align: right;\n",
       "    }\n",
       "</style>\n",
       "<table border=\"1\" class=\"dataframe\">\n",
       "  <thead>\n",
       "    <tr style=\"text-align: right;\">\n",
       "      <th></th>\n",
       "      <th>date</th>\n",
       "      <th>moon_shine</th>\n",
       "    </tr>\n",
       "  </thead>\n",
       "  <tbody>\n",
       "    <tr>\n",
       "      <th>0</th>\n",
       "      <td>2013-01-01</td>\n",
       "      <td>83.0</td>\n",
       "    </tr>\n",
       "    <tr>\n",
       "      <th>1</th>\n",
       "      <td>2013-01-02</td>\n",
       "      <td>75.0</td>\n",
       "    </tr>\n",
       "    <tr>\n",
       "      <th>2</th>\n",
       "      <td>2013-01-03</td>\n",
       "      <td>67.0</td>\n",
       "    </tr>\n",
       "    <tr>\n",
       "      <th>3</th>\n",
       "      <td>2013-01-04</td>\n",
       "      <td>58.0</td>\n",
       "    </tr>\n",
       "    <tr>\n",
       "      <th>4</th>\n",
       "      <td>2013-01-05</td>\n",
       "      <td>50.0</td>\n",
       "    </tr>\n",
       "    <tr>\n",
       "      <th>...</th>\n",
       "      <td>...</td>\n",
       "      <td>...</td>\n",
       "    </tr>\n",
       "    <tr>\n",
       "      <th>6816</th>\n",
       "      <td>2029-12-30</td>\n",
       "      <td>25.0</td>\n",
       "    </tr>\n",
       "    <tr>\n",
       "      <th>6817</th>\n",
       "      <td>2029-12-31</td>\n",
       "      <td>17.0</td>\n",
       "    </tr>\n",
       "    <tr>\n",
       "      <th>6818</th>\n",
       "      <td>2029-12-06</td>\n",
       "      <td>8.0</td>\n",
       "    </tr>\n",
       "    <tr>\n",
       "      <th>6819</th>\n",
       "      <td>2029-12-26</td>\n",
       "      <td>75.0</td>\n",
       "    </tr>\n",
       "    <tr>\n",
       "      <th>6820</th>\n",
       "      <td>2029-12-27</td>\n",
       "      <td>67.0</td>\n",
       "    </tr>\n",
       "  </tbody>\n",
       "</table>\n",
       "<p>6821 rows × 2 columns</p>\n",
       "</div>"
      ],
      "text/plain": [
       "           date  moon_shine\n",
       "0    2013-01-01        83.0\n",
       "1    2013-01-02        75.0\n",
       "2    2013-01-03        67.0\n",
       "3    2013-01-04        58.0\n",
       "4    2013-01-05        50.0\n",
       "...         ...         ...\n",
       "6816 2029-12-30        25.0\n",
       "6817 2029-12-31        17.0\n",
       "6818 2029-12-06         8.0\n",
       "6819 2029-12-26        75.0\n",
       "6820 2029-12-27        67.0\n",
       "\n",
       "[6821 rows x 2 columns]"
      ]
     },
     "metadata": {},
     "output_type": "display_data"
    }
   ],
   "source": [
    "moon_calendar.date = pd.to_datetime(moon_calendar.date, format = '%d.%m.%Y')\n",
    "display(moon_calendar)"
   ]
  },
  {
   "cell_type": "markdown",
   "metadata": {},
   "source": [
    "Отлично, DataFreme сформирован\n",
    "  \n",
    "Теперь избавимся от дубликатов"
   ]
  },
  {
   "cell_type": "code",
   "execution_count": 28,
   "metadata": {},
   "outputs": [
    {
     "data": {
      "text/html": [
       "<div>\n",
       "<style scoped>\n",
       "    .dataframe tbody tr th:only-of-type {\n",
       "        vertical-align: middle;\n",
       "    }\n",
       "\n",
       "    .dataframe tbody tr th {\n",
       "        vertical-align: top;\n",
       "    }\n",
       "\n",
       "    .dataframe thead th {\n",
       "        text-align: right;\n",
       "    }\n",
       "</style>\n",
       "<table border=\"1\" class=\"dataframe\">\n",
       "  <thead>\n",
       "    <tr style=\"text-align: right;\">\n",
       "      <th></th>\n",
       "      <th>date</th>\n",
       "      <th>moon_shine</th>\n",
       "    </tr>\n",
       "  </thead>\n",
       "  <tbody>\n",
       "    <tr>\n",
       "      <th>0</th>\n",
       "      <td>2013-01-01</td>\n",
       "      <td>83.0</td>\n",
       "    </tr>\n",
       "    <tr>\n",
       "      <th>1</th>\n",
       "      <td>2013-01-02</td>\n",
       "      <td>75.0</td>\n",
       "    </tr>\n",
       "    <tr>\n",
       "      <th>2</th>\n",
       "      <td>2013-01-03</td>\n",
       "      <td>67.0</td>\n",
       "    </tr>\n",
       "    <tr>\n",
       "      <th>3</th>\n",
       "      <td>2013-01-04</td>\n",
       "      <td>58.0</td>\n",
       "    </tr>\n",
       "    <tr>\n",
       "      <th>4</th>\n",
       "      <td>2013-01-05</td>\n",
       "      <td>50.0</td>\n",
       "    </tr>\n",
       "    <tr>\n",
       "      <th>...</th>\n",
       "      <td>...</td>\n",
       "      <td>...</td>\n",
       "    </tr>\n",
       "    <tr>\n",
       "      <th>6813</th>\n",
       "      <td>2029-12-27</td>\n",
       "      <td>67.0</td>\n",
       "    </tr>\n",
       "    <tr>\n",
       "      <th>6814</th>\n",
       "      <td>2029-12-28</td>\n",
       "      <td>50.0</td>\n",
       "    </tr>\n",
       "    <tr>\n",
       "      <th>6815</th>\n",
       "      <td>2029-12-29</td>\n",
       "      <td>25.0</td>\n",
       "    </tr>\n",
       "    <tr>\n",
       "      <th>6816</th>\n",
       "      <td>2029-12-30</td>\n",
       "      <td>25.0</td>\n",
       "    </tr>\n",
       "    <tr>\n",
       "      <th>6817</th>\n",
       "      <td>2029-12-31</td>\n",
       "      <td>17.0</td>\n",
       "    </tr>\n",
       "  </tbody>\n",
       "</table>\n",
       "<p>6209 rows × 2 columns</p>\n",
       "</div>"
      ],
      "text/plain": [
       "           date  moon_shine\n",
       "0    2013-01-01        83.0\n",
       "1    2013-01-02        75.0\n",
       "2    2013-01-03        67.0\n",
       "3    2013-01-04        58.0\n",
       "4    2013-01-05        50.0\n",
       "...         ...         ...\n",
       "6813 2029-12-27        67.0\n",
       "6814 2029-12-28        50.0\n",
       "6815 2029-12-29        25.0\n",
       "6816 2029-12-30        25.0\n",
       "6817 2029-12-31        17.0\n",
       "\n",
       "[6209 rows x 2 columns]"
      ]
     },
     "execution_count": 28,
     "metadata": {},
     "output_type": "execute_result"
    }
   ],
   "source": [
    "moon_calendar = moon_calendar.drop_duplicates()\n",
    "moon_calendar"
   ]
  },
  {
   "cell_type": "markdown",
   "metadata": {},
   "source": [
    "Сохраним полученные данные в формате csv"
   ]
  },
  {
   "cell_type": "code",
   "execution_count": null,
   "metadata": {},
   "outputs": [],
   "source": [
    "moon_calendar.to_csv('moon.csv', sep = ';', index = False)"
   ]
  }
 ],
 "metadata": {
  "kernelspec": {
   "display_name": "Python 3 (ipykernel)",
   "language": "python",
   "name": "python3"
  },
  "language_info": {
   "codemirror_mode": {
    "name": "ipython",
    "version": 3
   },
   "file_extension": ".py",
   "mimetype": "text/x-python",
   "name": "python",
   "nbconvert_exporter": "python",
   "pygments_lexer": "ipython3",
   "version": "3.9.16"
  },
  "vscode": {
   "interpreter": {
    "hash": "0d2e898eba014519e90a84be7ae47c0b1c0db3c8189d298562bbdbd82ee71be6"
   }
  }
 },
 "nbformat": 4,
 "nbformat_minor": 2
}
